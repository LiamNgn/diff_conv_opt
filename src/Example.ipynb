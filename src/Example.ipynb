{
 "cells": [
  {
   "cell_type": "code",
   "execution_count": 16,
   "outputs": [
    {
     "ename": "ModuleNotFoundError",
     "evalue": "No module named 'diff_conv_opt'",
     "output_type": "error",
     "traceback": [
      "\u001B[1;31m---------------------------------------------------------------------------\u001B[0m",
      "\u001B[1;31mModuleNotFoundError\u001B[0m                       Traceback (most recent call last)",
      "Input \u001B[1;32mIn [16]\u001B[0m, in \u001B[0;36m<cell line: 1>\u001B[1;34m()\u001B[0m\n\u001B[1;32m----> 1\u001B[0m \u001B[38;5;28;01mfrom\u001B[39;00m \u001B[38;5;21;01mdiff_conv_opt\u001B[39;00m\u001B[38;5;21;01m.\u001B[39;00m\u001B[38;5;21;01msrc\u001B[39;00m\u001B[38;5;21;01m.\u001B[39;00m\u001B[38;5;21;01mmy_lib\u001B[39;00m \u001B[38;5;28;01mimport\u001B[39;00m DiffConv\n\u001B[0;32m      2\u001B[0m \u001B[38;5;28;01mimport\u001B[39;00m \u001B[38;5;21;01mcxvpy\u001B[39;00m \u001B[38;5;28;01mas\u001B[39;00m \u001B[38;5;21;01mcp\u001B[39;00m\n\u001B[0;32m      3\u001B[0m \u001B[38;5;28;01mimport\u001B[39;00m \u001B[38;5;21;01mtorch\u001B[39;00m\n",
      "\u001B[1;31mModuleNotFoundError\u001B[0m: No module named 'diff_conv_opt'"
     ]
    }
   ],
   "source": [
    "from diff_conv_opt.src.my_lib import DiffConv\n",
    "import cxvpy as cp\n",
    "import torch\n",
    "from cvxpylayers.torch import CvxpyLayer\n",
    "\n"
   ],
   "metadata": {
    "collapsed": false
   }
  },
  {
   "cell_type": "code",
   "execution_count": 15,
   "outputs": [
    {
     "name": "stdout",
     "output_type": "stream",
     "text": [
      "tensor([1.0039e-06, 2.7358e-01], grad_fn=<_CvxpyLayerFnFnBackward>)\n"
     ]
    }
   ],
   "source": [
    "#Example with the cvxpylayer\n",
    "n, m = 2, 3\n",
    "x = cp.Variable(n)\n",
    "A = cp.Parameter((m, n))\n",
    "b = cp.Parameter(m)\n",
    "constraints = [x >= 0]\n",
    "objective = cp.Minimize(0.5 * cp.pnorm(A @ x - b, p=1))\n",
    "problem = cp.Problem(objective, constraints)\n",
    "assert problem.is_dpp()\n",
    "cvxpylayer = CvxpyLayer(problem, parameters=[A, b], variables=[x])\n",
    "A_tch = torch.randn(m, n, requires_grad=True)\n",
    "b_tch = torch.randn(m, requires_grad=True)\n",
    "(solution,) = cvxpylayer(A_tch, b_tch)\n",
    "solution.sum().backward()\n",
    "print(solution)\n",
    "\n"
   ],
   "metadata": {
    "collapsed": false
   }
  },
  {
   "cell_type": "code",
   "execution_count": 7,
   "outputs": [],
   "source": [
    "#Example with DiffConv\n",
    "n, m = 2, 3\n",
    "x = cp.Variable(n)\n",
    "A = cp.Parameter((m, n))\n",
    "b = cp.Parameter(m)\n",
    "constraints = [x >= 0]\n",
    "objective = cp.Minimize(0.5 * cp.pnorm(A @ x - b, p=1))\n",
    "problem = cp.Problem(objective, constraints)\n",
    "assert problem.is_dpp()\n",
    "cvxpylayer2 = DiffConv(problem, parameters=[A, b], variables=[x])\n",
    "A_tch2 = A_tch\n",
    "b_tch2 = b_tch\n",
    "(solution2,) = cvxpylayer2(A_tch2, b_tch2)\n",
    "solution2.sum().backward()\n",
    "print(solution2)"
   ],
   "metadata": {
    "collapsed": false
   }
  },
  {
   "cell_type": "markdown",
   "source": [
    "**Sigmoid function**"
   ],
   "metadata": {
    "collapsed": false
   }
  },
  {
   "cell_type": "code",
   "execution_count": 11,
   "outputs": [],
   "source": [
    "\n",
    "def to_np(x):\n",
    "    return x.detach().numpy()"
   ],
   "metadata": {
    "collapsed": false
   }
  },
  {
   "cell_type": "code",
   "execution_count": 12,
   "outputs": [
    {
     "data": {
      "text/plain": "Text(0, 0.5, '$f(x)$')"
     },
     "execution_count": 12,
     "metadata": {},
     "output_type": "execute_result"
    },
    {
     "data": {
      "text/plain": "<Figure size 432x288 with 1 Axes>",
      "image/png": "[encoded data removed]"
     },
     "metadata": {
      "needs_background": "light"
     },
     "output_type": "display_data"
    }
   ],
   "source": [
    "\n",
    "\n",
    "\n",
    "import torch\n",
    "import matplotlib.pyplot as plt\n",
    "\n",
    "n = 100\n",
    "x = torch.linspace(-5, 5, steps=n, requires_grad=True)\n",
    "y = torch.sigmoid(x)\n",
    "plt.plot(to_np(x), to_np(y))\n",
    "plt.title('The Standard Sigmoid')\n",
    "plt.xlabel('$x$')\n",
    "plt.ylabel('$f(x)$')"
   ],
   "metadata": {
    "collapsed": false
   }
  },
  {
   "cell_type": "code",
   "execution_count": 13,
   "outputs": [
    {
     "ename": "ImportError",
     "evalue": "cannot import name 'DiffConv' from 'my_lib' (D:\\Project\\TSE\\MathsOfMLDL\\Project Implicit Differentiation\\diff_conv_opt\\src\\my_lib.py)",
     "output_type": "error",
     "traceback": [
      "\u001B[1;31m---------------------------------------------------------------------------\u001B[0m",
      "\u001B[1;31mImportError\u001B[0m                               Traceback (most recent call last)",
      "Input \u001B[1;32mIn [13]\u001B[0m, in \u001B[0;36m<cell line: 3>\u001B[1;34m()\u001B[0m\n\u001B[0;32m      1\u001B[0m \u001B[38;5;28;01mimport\u001B[39;00m \u001B[38;5;21;01mcvxpy\u001B[39;00m \u001B[38;5;28;01mas\u001B[39;00m \u001B[38;5;21;01mcp\u001B[39;00m\n\u001B[0;32m      2\u001B[0m \u001B[38;5;28;01mfrom\u001B[39;00m \u001B[38;5;21;01mcvxpylayers\u001B[39;00m\u001B[38;5;21;01m.\u001B[39;00m\u001B[38;5;21;01mtorch\u001B[39;00m \u001B[38;5;28;01mimport\u001B[39;00m CvxpyLayer\n\u001B[1;32m----> 3\u001B[0m \u001B[38;5;28;01mfrom\u001B[39;00m \u001B[38;5;21;01mmy_lib\u001B[39;00m \u001B[38;5;28;01mimport\u001B[39;00m DiffConv\n\u001B[0;32m      5\u001B[0m _x \u001B[38;5;241m=\u001B[39m cp\u001B[38;5;241m.\u001B[39mParameter(n)\n\u001B[0;32m      6\u001B[0m _y \u001B[38;5;241m=\u001B[39m cp\u001B[38;5;241m.\u001B[39mVariable(n)\n",
      "\u001B[1;31mImportError\u001B[0m: cannot import name 'DiffConv' from 'my_lib' (D:\\Project\\TSE\\MathsOfMLDL\\Project Implicit Differentiation\\diff_conv_opt\\src\\my_lib.py)"
     ]
    }
   ],
   "source": [
    "\n",
    "import cvxpy as cp\n",
    "from cvxpylayers.torch import CvxpyLayer\n",
    "from my_lib import DiffConv\n",
    "\n",
    "_x = cp.Parameter(n)\n",
    "_y = cp.Variable(n)\n",
    "obj = cp.Minimize(-_x.T * _y - cp.sum(cp.entr(_y) + cp.entr(1. - _y)))\n",
    "prob = cp.Problem(obj)\n",
    "layer = DiffConv(prob, parameters=[_x], variables=[_y])\n",
    "x = torch.linspace(-5, 5, steps=n, requires_grad=True)\n",
    "y, = layer(x)\n",
    "plt.plot(x.detach().numpy(), y.detach().numpy())\n",
    "plt.title('The Variational Sigmoid')\n",
    "plt.xlabel('$x$')\n",
    "plt.ylabel('$f(x)$')\n"
   ],
   "metadata": {
    "collapsed": false
   }
  },
  {
   "cell_type": "markdown",
   "source": [
    "### Reference\n",
    "<a id=\"1\">[1]</a> [Differntiable Convex Optimization Layers](https://locuslab.github.io/2019-10-28-cvxpylayers/)\n",
    "<a id=\"1\">[2]</a> [Deep Implicit Layers](http://implicit-layers-tutorial.org/)"
   ],
   "metadata": {
    "collapsed": false
   }
  }
 ],
 "metadata": {
  "kernelspec": {
   "display_name": "Python 3",
   "language": "python",
   "name": "python3"
  },
  "language_info": {
   "codemirror_mode": {
    "name": "ipython",
    "version": 2
   },
   "file_extension": ".py",
   "mimetype": "text/x-python",
   "name": "python",
   "nbconvert_exporter": "python",
   "pygments_lexer": "ipython2",
   "version": "2.7.6"
  }
 },
 "nbformat": 4,
 "nbformat_minor": 0
}
